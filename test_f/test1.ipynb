{
 "cells": [
  {
   "cell_type": "code",
   "execution_count": 1,
   "id": "b0392cd7-4017-4ac0-88e4-9e48e627e0b9",
   "metadata": {},
   "outputs": [],
   "source": [
    "ldata = [10,20,30,40,50]"
   ]
  },
  {
   "cell_type": "code",
   "execution_count": 2,
   "id": "c9e0b26c-873a-4d67-82df-a17911424b9e",
   "metadata": {},
   "outputs": [
    {
     "name": "stdout",
     "output_type": "stream",
     "text": [
      "[10, 20, 30, 40, 50]\n"
     ]
    }
   ],
   "source": [
    "print(ldata)"
   ]
  },
  {
   "cell_type": "code",
   "execution_count": 5,
   "id": "4c30db8a-36f7-4744-ab09-448e43af2879",
   "metadata": {},
   "outputs": [
    {
     "name": "stdin",
     "output_type": "stream",
     "text": [
      "정수값을 입력하세요 100\n"
     ]
    }
   ],
   "source": [
    "data = input('정수값을 입력하세요')"
   ]
  },
  {
   "cell_type": "code",
   "execution_count": 6,
   "id": "ae3e38fa-e542-41e7-88a9-31a566a019d5",
   "metadata": {},
   "outputs": [
    {
     "data": {
      "text/plain": [
       "'100'"
      ]
     },
     "execution_count": 6,
     "metadata": {},
     "output_type": "execute_result"
    }
   ],
   "source": [
    "data"
   ]
  },
  {
   "cell_type": "code",
   "execution_count": null,
   "id": "af008856-7aae-4c07-b7aa-f138b50f898f",
   "metadata": {},
   "outputs": [],
   "source": []
  }
 ],
 "metadata": {
  "kernelspec": {
   "display_name": "Python 3 (ipykernel)",
   "language": "python",
   "name": "python3"
  },
  "language_info": {
   "codemirror_mode": {
    "name": "ipython",
    "version": 3
   },
   "file_extension": ".py",
   "mimetype": "text/x-python",
   "name": "python",
   "nbconvert_exporter": "python",
   "pygments_lexer": "ipython3",
   "version": "3.10.16"
  }
 },
 "nbformat": 4,
 "nbformat_minor": 5
}
